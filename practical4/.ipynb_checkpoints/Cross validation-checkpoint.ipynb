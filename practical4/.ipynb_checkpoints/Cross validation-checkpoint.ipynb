{
 "cells": [
  {
   "cell_type": "markdown",
   "metadata": {},
   "source": [
    "# Practical 4\n",
    "### Cross validation"
   ]
  },
  {
   "cell_type": "markdown",
   "metadata": {},
   "source": [
    "Import libraries"
   ]
  },
  {
   "cell_type": "code",
   "execution_count": 2,
   "metadata": {},
   "outputs": [
    {
     "name": "stderr",
     "output_type": "stream",
     "text": [
      "C:\\ProgramData\\Anaconda3\\lib\\site-packages\\sklearn\\cross_validation.py:41: DeprecationWarning: This module was deprecated in version 0.18 in favor of the model_selection module into which all the refactored classes and functions are moved. Also note that the interface of the new CV iterators are different from that of this module. This module will be removed in 0.20.\n",
      "  \"This module will be removed in 0.20.\", DeprecationWarning)\n"
     ]
    }
   ],
   "source": [
    "# Pandas \n",
    "import pandas as pd\n",
    "import numpy as np\n",
    "\n",
    "# matplotlib\n",
    "import matplotlib.pylab as plt\n",
    "%matplotlib inline\n",
    "\n",
    "# Decision trees and logistic regression\n",
    "from sklearn.tree import DecisionTreeClassifier\n",
    "from sklearn.linear_model import LogisticRegression\n",
    "\n",
    "# Train, test, and evaluation functions\n",
    "from sklearn.metrics import accuracy_score\n",
    "from sklearn.cross_validation import cross_val_score"
   ]
  },
  {
   "cell_type": "markdown",
   "metadata": {},
   "source": [
    "### Data\n",
    "We're going to use a dataset from Kaggle that contains information on some passengers from the sinking of the Titanic. This data set has 10 columns.\n",
    "\n",
    "The columns (features) are:\n",
    "\n",
    "```\n",
    "Col.  Name        Description\n",
    "----- ----------- ----------------------------------------------------------------\n",
    "1     Survived    Survival (0 = No; 1 = Yes)\n",
    "2     Pclass      Passenger Class (1 = 1st; 2 = 2nd; 3 = 3rd)\n",
    "3     Sex         Sex (0 = Female, 1 = Male)\n",
    "4     Age         Age\n",
    "5     SibSp       Number of Siblings/Spouses Aboard\n",
    "6     Parch       Number of Parents/Children Aboard\n",
    "7     Fare        Passenger Fare\n",
    "8     Embarked_S  Embarked from Southampton\n",
    "9     Embarked_C  Embarked from Cherbourg\n",
    "10    Embarked_Q  Embarked from Queenstown\n",
    "```\n",
    "\n",
    "Our goal is to build a model to predict if people survived the sinking (the first column, called `\"Survived\"`."
   ]
  },
  {
   "cell_type": "markdown",
   "metadata": {},
   "source": [
    "### Grid Searching for a Decision Tree\n",
    "Below is some simple code to use 10-fold cross validation to get the performance for different decision trees with varying levels of complexity."
   ]
  },
  {
   "cell_type": "code",
   "execution_count": 3,
   "metadata": {},
   "outputs": [
    {
     "data": {
      "image/png": "[encoded data removed]",
      "text/plain": [
       "<matplotlib.figure.Figure at 0x2ad315310f0>"
      ]
     },
     "metadata": {},
     "output_type": "display_data"
    }
   ],
   "source": [
    "# Read data using pandas\n",
    "data = pd.read_csv(\"data/titanic.csv\")\n",
    "\n",
    "# Split into X and Y\n",
    "X = data.drop(['Survived'], 1)\n",
    "Y = data['Survived']\n",
    "\n",
    "# I will try maximum depths from 1 to 16\n",
    "complexity_values = range(1,16)\n",
    "\n",
    "# I need an empty list to hold my accuracies\n",
    "accuracies = []\n",
    "\n",
    "# I will go through each complexity_value one at a time.\n",
    "for complexity_value in complexity_values:\n",
    "    # This will create an empty tree with a specific maximum depth (complexity)\n",
    "    tree = DecisionTreeClassifier(criterion=\"entropy\", max_depth=complexity_value)\n",
    "    \n",
    "    # This will get us 10-fold cross validation accuracy with our tree and our data\n",
    "    # We can do this in one line!\n",
    "    cross_fold_accuracies = cross_val_score(tree, X, Y, scoring=\"accuracy\", cv=10)\n",
    "    \n",
    "    # Average accuracy\n",
    "    average_cross_fold_accuracy = np.mean(cross_fold_accuracies)\n",
    "    \n",
    "    # Append this accuracy to a list of accuracies\n",
    "    accuracies.append(average_cross_fold_accuracy)\n",
    "\n",
    "# We want to plot our results\n",
    "plt.plot(complexity_values, accuracies)\n",
    "plt.xlabel(\"Maximum Depth\")\n",
    "plt.ylabel(\"Accuracy\")\n",
    "plt.show()"
   ]
  },
  {
   "cell_type": "markdown",
   "metadata": {
    "collapsed": true
   },
   "source": [
    "### Team work\n",
    "Get together with your teams and modify this code block to try different logistic regressions. Remember, here complexity if called $C$ (note, this isn't $\\lambda$ like we discussed this week --- it is close though, $C = \\lambda^{-1}$) instead of `max_depth` like in a decision tree. Normal ranges for $C$ are powers of 10. For example: ..., 0.01, 0.1, 1, 1.0, 10.0, ... \n",
    "\n",
    "**Try a few and try to find the best model.**\n",
    "\n",
    "**Do you like the decision trees or logistic regression?**"
   ]
  },
  {
   "cell_type": "code",
   "execution_count": null,
   "metadata": {
    "collapsed": true
   },
   "outputs": [],
   "source": [
    "# Read data using pandas\n",
    "data = pd.read_csv(\"data/titanic.csv\")\n",
    "\n",
    "# Split into X and Y\n",
    "X = data.drop(['Survived'], 1)\n",
    "Y = data['Survived']\n",
    "\n",
    "# Try different regularizations (powers of 10)\n",
    "complexity_values = [...]\n",
    "\n",
    "# I need an empty list to hold my accuracies\n",
    "accuracies = []\n",
    "\n",
    "# I will go through each complexity_value one at a time.\n",
    "for complexity_value in complexity_values:\n",
    "    # This will create an empty logistic regression with a particular regularization (C)\n",
    "    logistic = LogisticRegression(C=...)\n",
    "    \n",
    "    # This will get us 10-fold cross validation accuracy with our logistic reg. and our data\n",
    "    # We can do this in one line!\n",
    "    cross_fold_accuracies = cross_val_score(...)\n",
    "    \n",
    "    # Average accuracy\n",
    "    average_cross_fold_accuracy = np.mean(cross_fold_accuracies)\n",
    "    \n",
    "    # Append this accuracy to a list of accuracies\n",
    "    accuracies.append(average_cross_fold_accuracy)\n",
    "\n",
    "# We want to plot our results\n",
    "plt.plot(...)\n",
    "plt.xlabel(\"...\")\n",
    "plt.ylabel(\"...\")\n",
    "plt.show()"
   ]
  }
 ],
 "metadata": {
  "kernelspec": {
   "display_name": "Python 3",
   "language": "python",
   "name": "python3"
  },
  "language_info": {
   "codemirror_mode": {
    "name": "ipython",
    "version": 3
   },
   "file_extension": ".py",
   "mimetype": "text/x-python",
   "name": "python",
   "nbconvert_exporter": "python",
   "pygments_lexer": "ipython3",
   "version": "3.6.4"
  }
 },
 "nbformat": 4,
 "nbformat_minor": 1
}
