{
 "cells": [
  {
   "cell_type": "markdown",
   "metadata": {},
   "source": [
    "# Introduction to Data Mining\n",
    "## Practical 5 excercises"
   ]
  },
  {
   "cell_type": "markdown",
   "metadata": {},
   "source": [
    "### Theory question"
   ]
  },
  {
   "cell_type": "markdown",
   "metadata": {},
   "source": [
    "Consider two different ROC curves:\n",
    "\n",
    "- a line that goes from point (0, 0) to (1, 1), i.e., a 45-degreee line\n",
    "- a curve that goes from point (0, 0) to (0, 1) and then to (1, 1), i.e. a sharp 90-degree corner\n",
    "\n",
    "What is the area under each curve? What can you say about the ranking of all the records by their probability? Which of these is more desirable? "
   ]
  },
  {
   "cell_type": "markdown",
   "metadata": {},
   "source": [
    "Answer here!"
   ]
  },
  {
   "cell_type": "markdown",
   "metadata": {},
   "source": [
    "***"
   ]
  },
  {
   "cell_type": "markdown",
   "metadata": {},
   "source": [
    "### Individual work"
   ]
  },
  {
   "cell_type": "markdown",
   "metadata": {},
   "source": [
    "Now build two ROC curves using the `data/cell2cell.csv` data (this is the customer churn data set from 3 weeks ago and that is discussed in the textbook).\n",
    "\n",
    "The problem is to determine a model to predict whether customers will leave a mobile phone company for another one (called customer churn - see Lecture 1 and 2 for further discussions).\n",
    "\n",
    "These historical data consist of 31,892 customers: 15,855 customers that churned (i.e., left the company) and 16,036 that did not churn. Here are the data set's 12 columns:\n",
    "\n",
    "```\n",
    "Col.  Var. Name  Var. Description\n",
    "----- ---------- --------------------------------------------------------------\n",
    "1     revenue    Mean monthly revenue in dollars\n",
    "2     outcalls   Mean number of outbound voice calls\n",
    "3     incalls    Mean number of inbound voice calls\n",
    "4     months     Months in Service\n",
    "5     eqpdays    Number of days the customer has had his/her current equipment\n",
    "6     webcap     Handset is web capable\n",
    "7     marryyes   Married (1=Yes; 0=No)\n",
    "8     travel     Has traveled to non-US country (1=Yes; 0=No)\n",
    "9     pcown      Owns a personal computer (1=Yes; 0=No)\n",
    "10    creditcd   Possesses a credit card (1=Yes; 0=No)\n",
    "11    retcalls   Number of calls previously made to retention team\n",
    "12    churndep   Did the customer churn (1=Yes; 0=No)\n",
    "```\n",
    "\n",
    "The first 11 columns are our attributes/features. The last column, `\"churndep\"`, is the target variable."
   ]
  },
  {
   "cell_type": "markdown",
   "metadata": {},
   "source": [
    "1\\. For this excercise you should:\n",
    "- Randomly assign 75% of your data into training and the remaining 25% into test.\n",
    "- Train a logistic regression model and use the test data to get the data to create an ROC curve.\n",
    "- Train a decision tree model (try `criterion=\"entropy\"`) and use the test data to get the data to create an ROC curve.\n",
    "- Plot both ROC curves on one plot (don't forget a legend so I can tell which curve is which)\n",
    "- Generate some statistics on your model: recall, precision, f-measure (see sklearn.metrics)\n",
    "- Implement cross validation - see the previous practical and the following example from the documentation: http://scikit-learn.org/stable/auto_examples/model_selection/plot_roc_crossval.html#sphx-glr-auto-examples-model-selection-plot-roc-crossval-py)"
   ]
  },
  {
   "cell_type": "code",
   "execution_count": null,
   "metadata": {
    "collapsed": true
   },
   "outputs": [],
   "source": [
    "# Import pandas to read in data\n",
    "# Import matplotlib for plotting\n",
    "# Import decision trees and logistic regression\n",
    "# Import train, test, and evaluation functions\n",
    "\n",
    "\n",
    "# Read in our csv data\n",
    "\n",
    "# Put all features into X and the target variable into Y\n",
    "\n",
    "# Split the data into 75% training and 25% testing \n",
    "# (for the last question add cross validation)\n",
    "\n",
    "# Create both models\n",
    "tree = ...\n",
    "logistic = ...\n",
    "\n",
    "# Fit both models\n",
    "tree. ...\n",
    "logistic. ...\n",
    "\n",
    "# Get probabilities for each model on the test data\n",
    "Y_test_probabilities_tree = tree.predict_proba(...)[:, 1]\n",
    "Y_test_probabilities_logistic = logistic.predict_proba(...)[:, 1]\n",
    "\n",
    "# Get TPR - true positive rate - and FPR - false positive rate - for each model\n",
    "fpr_tree, tpr_tree, thresholds_tree = roc_curve(...)\n",
    "fpr_logistic, tpr_logistic, thresholds_logistic = roc_curve(...)\n",
    "    \n",
    "# Plot two ROC curves on one plot. Don't forget labels and your legend\n",
    "plt.plot(...)\n",
    "plt.plot(...)\n",
    "\n",
    "plt.show()"
   ]
  },
  {
   "cell_type": "markdown",
   "metadata": {},
   "source": [
    "2\\. Discuss your observations of the ROC curves above with other class members and the tutor. Are they similar? How well are they doing? Do you like one more than the other?"
   ]
  },
  {
   "cell_type": "markdown",
   "metadata": {},
   "source": [
    "Answer here!"
   ]
  },
  {
   "cell_type": "markdown",
   "metadata": {},
   "source": [
    "3\\. These models are using default complexity parameters (the decision tree can be very large and the logistic regression has no regularization). \n",
    "\n",
    "Do you think looking at just these two ROC curves is enough to pick the *best* model? What else might you want to explore to choose the best possible model?"
   ]
  },
  {
   "cell_type": "markdown",
   "metadata": {},
   "source": [
    "Answer here!"
   ]
  }
 ],
 "metadata": {
  "kernelspec": {
   "display_name": "Python 3",
   "language": "python",
   "name": "python3"
  },
  "language_info": {
   "codemirror_mode": {
    "name": "ipython",
    "version": 3
   },
   "file_extension": ".py",
   "mimetype": "text/x-python",
   "name": "python",
   "nbconvert_exporter": "python",
   "pygments_lexer": "ipython3",
   "version": "3.6.4"
  }
 },
 "nbformat": 4,
 "nbformat_minor": 1
}
